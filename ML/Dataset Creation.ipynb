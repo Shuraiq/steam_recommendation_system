{
 "cells": [
  {
   "cell_type": "code",
   "execution_count": 1,
   "id": "e39b6ac8",
   "metadata": {},
   "outputs": [],
   "source": [
    "import pandas as pd\n",
    "import numpy as np"
   ]
  },
  {
   "cell_type": "code",
   "execution_count": 2,
   "id": "676a5a26",
   "metadata": {},
   "outputs": [
    {
     "name": "stdout",
     "output_type": "stream",
     "text": [
      "Requirement already satisfied: progressbar in c:\\users\\shura\\miniconda3\\lib\\site-packages (2.5)\n"
     ]
    }
   ],
   "source": [
    "!pip install progressbar"
   ]
  },
  {
   "cell_type": "code",
   "execution_count": 3,
   "id": "5cfbdc99",
   "metadata": {},
   "outputs": [
    {
     "name": "stdout",
     "output_type": "stream",
     "text": [
      "Requirement already satisfied: tqdm in c:\\users\\shura\\miniconda3\\lib\\site-packages (4.61.2)\n",
      "Requirement already satisfied: colorama in c:\\users\\shura\\miniconda3\\lib\\site-packages (from tqdm) (0.4.4)\n"
     ]
    }
   ],
   "source": [
    "!pip install tqdm"
   ]
  },
  {
   "cell_type": "code",
   "execution_count": 2,
   "id": "7ef9a780",
   "metadata": {},
   "outputs": [],
   "source": [
    "from tqdm import tqdm\n",
    "from progressbar import ProgressBar\n",
    "pbar = ProgressBar()"
   ]
  },
  {
   "cell_type": "code",
   "execution_count": 3,
   "id": "6f518a52",
   "metadata": {},
   "outputs": [],
   "source": [
    "df_large = pd.read_csv('./Dataset/large.csv')"
   ]
  },
  {
   "cell_type": "code",
   "execution_count": 4,
   "id": "83419b33",
   "metadata": {},
   "outputs": [
    {
     "data": {
      "text/plain": [
       "10437471"
      ]
     },
     "execution_count": 4,
     "metadata": {},
     "output_type": "execute_result"
    }
   ],
   "source": [
    "len(df_large)"
   ]
  },
  {
   "cell_type": "code",
   "execution_count": 7,
   "id": "5724cf17",
   "metadata": {},
   "outputs": [
    {
     "data": {
      "text/plain": [
       "Index(['Unnamed: 0', 'steamid', 'appid', 'voted_up', 'votes_up', 'votes_funny',\n",
       "       'weighted_vote_score', 'playtime_forever', 'playtime_at_review',\n",
       "       'num_games_owned', 'num_reviews', 'review', 'unix_timestamp_created',\n",
       "       'unix_timestamp_updated'],\n",
       "      dtype='object')"
      ]
     },
     "execution_count": 7,
     "metadata": {},
     "output_type": "execute_result"
    }
   ],
   "source": [
    "df_large.columns"
   ]
  },
  {
   "cell_type": "code",
   "execution_count": 8,
   "id": "0a8933e4",
   "metadata": {},
   "outputs": [
    {
     "data": {
      "text/html": [
       "<div>\n",
       "<style scoped>\n",
       "    .dataframe tbody tr th:only-of-type {\n",
       "        vertical-align: middle;\n",
       "    }\n",
       "\n",
       "    .dataframe tbody tr th {\n",
       "        vertical-align: top;\n",
       "    }\n",
       "\n",
       "    .dataframe thead th {\n",
       "        text-align: right;\n",
       "    }\n",
       "</style>\n",
       "<table border=\"1\" class=\"dataframe\">\n",
       "  <thead>\n",
       "    <tr style=\"text-align: right;\">\n",
       "      <th></th>\n",
       "      <th>Unnamed: 0</th>\n",
       "      <th>steamid</th>\n",
       "      <th>appid</th>\n",
       "      <th>voted_up</th>\n",
       "      <th>votes_up</th>\n",
       "      <th>votes_funny</th>\n",
       "      <th>weighted_vote_score</th>\n",
       "      <th>playtime_forever</th>\n",
       "      <th>playtime_at_review</th>\n",
       "      <th>num_games_owned</th>\n",
       "      <th>num_reviews</th>\n",
       "      <th>review</th>\n",
       "      <th>unix_timestamp_created</th>\n",
       "      <th>unix_timestamp_updated</th>\n",
       "    </tr>\n",
       "  </thead>\n",
       "  <tbody>\n",
       "    <tr>\n",
       "      <th>0</th>\n",
       "      <td>5000000</td>\n",
       "      <td>76561198147524600</td>\n",
       "      <td>208730</td>\n",
       "      <td>False</td>\n",
       "      <td>5</td>\n",
       "      <td>2</td>\n",
       "      <td>0.467759</td>\n",
       "      <td>1306</td>\n",
       "      <td>1154</td>\n",
       "      <td>75</td>\n",
       "      <td>1</td>\n",
       "      <td>This game locks up after the first chapter and...</td>\n",
       "      <td>1528471923</td>\n",
       "      <td>1528471923</td>\n",
       "    </tr>\n",
       "    <tr>\n",
       "      <th>1</th>\n",
       "      <td>5000001</td>\n",
       "      <td>76561198036391642</td>\n",
       "      <td>208730</td>\n",
       "      <td>False</td>\n",
       "      <td>18</td>\n",
       "      <td>2</td>\n",
       "      <td>0.584353</td>\n",
       "      <td>376</td>\n",
       "      <td>376</td>\n",
       "      <td>169</td>\n",
       "      <td>12</td>\n",
       "      <td>I'm a huge Game of Thrones fan, but even that ...</td>\n",
       "      <td>1528248292</td>\n",
       "      <td>1528248292</td>\n",
       "    </tr>\n",
       "  </tbody>\n",
       "</table>\n",
       "</div>"
      ],
      "text/plain": [
       "   Unnamed: 0            steamid   appid  voted_up  votes_up  votes_funny  \\\n",
       "0     5000000  76561198147524600  208730     False         5            2   \n",
       "1     5000001  76561198036391642  208730     False        18            2   \n",
       "\n",
       "   weighted_vote_score  playtime_forever  playtime_at_review  num_games_owned  \\\n",
       "0             0.467759              1306                1154               75   \n",
       "1             0.584353               376                 376              169   \n",
       "\n",
       "   num_reviews                                             review  \\\n",
       "0            1  This game locks up after the first chapter and...   \n",
       "1           12  I'm a huge Game of Thrones fan, but even that ...   \n",
       "\n",
       "   unix_timestamp_created  unix_timestamp_updated  \n",
       "0              1528471923              1528471923  \n",
       "1              1528248292              1528248292  "
      ]
     },
     "execution_count": 8,
     "metadata": {},
     "output_type": "execute_result"
    }
   ],
   "source": [
    "df_large.head(2)"
   ]
  },
  {
   "cell_type": "code",
   "execution_count": 9,
   "id": "ecea5deb",
   "metadata": {},
   "outputs": [
    {
     "data": {
      "text/plain": [
       "numpy.int64"
      ]
     },
     "execution_count": 9,
     "metadata": {},
     "output_type": "execute_result"
    }
   ],
   "source": [
    "type((df_large[\"steamid\"][1]))"
   ]
  },
  {
   "cell_type": "code",
   "execution_count": 27,
   "id": "1e484a06",
   "metadata": {},
   "outputs": [],
   "source": [
    "def construct_app_review_string(df):\n",
    "    df = df[df['review'].notna()]\n",
    "    unique_appids = df['appid'].unique()\n",
    "    data = []\n",
    "    for appid in pbar(unique_appids):\n",
    "        app_data = {}\n",
    "        reviews = df[df[\"appid\"] == appid][\"review\"]\n",
    "        app_data[\"reviews\"] = ' '.join(list(reviews))\n",
    "        app_data[\"appid\"] = appid\n",
    "        data.append(app_data)\n",
    "        \n",
    "    return data"
   ]
  },
  {
   "cell_type": "code",
   "execution_count": 28,
   "id": "aea2b72f",
   "metadata": {},
   "outputs": [
    {
     "name": "stderr",
     "output_type": "stream",
     "text": [
      "100% |########################################################################|\n"
     ]
    }
   ],
   "source": [
    "app_large_data = construct_app_review_string(df_large)"
   ]
  },
  {
   "cell_type": "code",
   "execution_count": 30,
   "id": "cb57edd7",
   "metadata": {},
   "outputs": [],
   "source": [
    "app_large_dataframe = pd.DataFrame(app_large_data)"
   ]
  },
  {
   "cell_type": "code",
   "execution_count": 38,
   "id": "0b1bef9d",
   "metadata": {},
   "outputs": [],
   "source": [
    "app_large_dataframe.to_csv(\"./Dataset/app_large.csv\")"
   ]
  },
  {
   "cell_type": "code",
   "execution_count": 10,
   "id": "f1c20001",
   "metadata": {},
   "outputs": [],
   "source": [
    "def construct_user_review_string(df):\n",
    "    df = df[df['review'].notna()]\n",
    "    unique_steamids = df['steamid'].unique()\n",
    "    data = []\n",
    "    for steamid in pbar(unique_steamids):\n",
    "        user_data = {}\n",
    "        reviews = df[df[\"steamid\"] == steamid][\"review\"]\n",
    "        user_data[\"reviews\"] = ' '.join(list(reviews))\n",
    "        user_data[\"userid\"] = steamid\n",
    "        data.append(user_data)\n",
    "        \n",
    "    return data"
   ]
  },
  {
   "cell_type": "code",
   "execution_count": 11,
   "id": "5d007fc2",
   "metadata": {},
   "outputs": [],
   "source": [
    "# user_large_data = construct_user_review_string(df_large)"
   ]
  },
  {
   "cell_type": "code",
   "execution_count": 12,
   "id": "a0130ab9",
   "metadata": {},
   "outputs": [],
   "source": [
    "def construct_user_review_string_2(df):\n",
    "    df = df[df['review'].notna()]\n",
    "    unique_steamids = df['steamid'].unique()\n",
    "\n",
    "\n",
    "    data = {}\n",
    "    for id in pbar(unique_steamids):\n",
    "        data[id] = \"\"\n",
    "    length_df = len(df)\n",
    "    for i in tqdm(range(len(df)), desc=\"Loading...\"):\n",
    "        userid = df.iloc[i][\"steamid\"]\n",
    "        data[userid] = data[userid]+\" \"+df.iloc[i][\"review\"]\n",
    "        \n",
    "    return data"
   ]
  },
  {
   "cell_type": "code",
   "execution_count": 15,
   "id": "6f1538ae",
   "metadata": {},
   "outputs": [
    {
     "name": "stderr",
     "output_type": "stream",
     "text": [
      "100% |########################################################################|\n",
      "Loading...: 100%|█████████████████████████████████████████████████████████████████████████████████| 10420693/10420693 [32:37<00:00, 5324.79it/s]\n"
     ]
    }
   ],
   "source": [
    "user_large_data = construct_user_review_string_2(df_large)"
   ]
  },
  {
   "cell_type": "code",
   "execution_count": 24,
   "id": "8e5efc89",
   "metadata": {},
   "outputs": [
    {
     "data": {
      "text/plain": [
       "' I\\'m a huge Game of Thrones fan, but even that couldn\\'t convince me to suffer through this terrible game. I put a good six+ hours into this game, and I honestly have to say it\\'s one of the worst games based on a movie/show I\\'ve ever played. Published in 2012, I know games that were published in 2009 that were more polished/less-buggy/better-combat than this game (AC2 comes to mind). \\n\\nThe story is fantastic (for the six hours I played). Engaging enough to keep me hooked, but VERY slow - similar to the early seasons of GoT. \\n\\nThe combat is absolutely atrocious. I have no other way to describe it, other than that it feels like a mobile game. You have to repeatedly \"queue up actions\" like you do in mobile games, and have no control over movement. The only \"intense part\" is when you select one of the few different abilities. Even then - it\\'s the same old rotation. Knockdown, hit hit, knockdown, hit hit. \\n\\nIt gets old incredibly fast.\\n\\nThe graphics are atrocious. Even on Ultra settings, textures aren\\'t finished, there are bugs everywhere with the skins loading in slowly, and the 3D models themselves are on the verge of being Playstation 1 bad. \\n\\nThe voice acting is stale and leaves much to be desired (although the show actor cameos are quite nice). \\n\\nThe background models are the same in every scene, so the devs didn\\'t put much time in ensuring \"variety\", as you often go back and forth through the same \"set pieces\"/levels to get from one destination to the other - which is incredibly tedious and strips away just how LARGE the game could be.\\n\\nTL;DR the story was so slow that even though I\\'m a fan - I couldn\\'t finish the game cause of it\\'s terrible performance and production. Skip this game and buy the Telltale Game of Thrones game, you\\'ll be much happier. Spoiler Filled Review:\\n\\nThe combat and movement feels cluhnky, final mission you get shot but your health doesn\\'t deplete it just ends the scene. Game feels more like a proof of concept than an actual game. Timing of events and planned actions sometimes feels really wacky causing much frustration as you have to repeat the mission or look up guides online to figure out how to move on. On the final mission when you climb through the window after shooting the guards who say, \"hands up\". When you fall instead of jump from the window, you glitch out and teleport to the other side of the window which you just crawled through, and can\\'t get back in. Meaning you have to commit suicide just to reset the checkpoint and try again. A lot of the game feels more like a proof of concept with the glitches, weird timed events, collectibles that have no meaning to the story, etc. It\\'s got good graphics for it\\'s time, a great story premise that could\\'ve been much longer, but the combat and movement really hold this game back. For instance if you\\'re at the top of a wall and climb over, and click \"right\" or D on the keyboard to move to the right, you climb back over the wall on the left. Which makes no sense because in other sequences of climbing/map movement, you hold right and click shift to jump to the right. The story telling through the comic cut scenes was really enjoyable, but when you change the audio settings in-game, it doesn\\'t change the settings for the cutscenes so you lose hearing because of it, or the audio randomly stops and you\\'re lucky you have subtitles on cause you don\\'t have any clue what the cutscenes are saying. Another thing, is if you accidentally click the keyboard while a cutscene is going, it skips and heads directly to the next mission. Most games have a popup that says, \"Are you sure you\\'d like to skip this cutscene?\" and you can cancel or accept. This game doesn\\'t, forcing you to go back to the main menu, scene selection, select the current scene you\\'re on and rewatch it without touching anything because the devs didn\\'t forsee this as an issue. Which it is. \\n\\nLike I said, this game could be so much better, but unfortunately it just feels lackluster and like a proof of concept instead of a final product. Really disappointing considering all the positive reviews this thing has. I expect a more polished game honestly. Didn\\'t bother playing past the first 30 mins because the game\\'s rating system is terrible. Even when you mix up different combos for how games are produced TODAY with different weights, you still get 1-4 on the first several games you publish. I wanted to like this, as everybody in the world has raved about it, but the first 30 mins was enough to tell me that it\\'s too harsh. I watched the development of this game for quite some time, and I can honestly say that this game has so much more depth than a lot of the other business simulators in the gaming genre. So much depth and endless entertainment. It\\'s not like other games where you HAVE To micromanage. The creator Jhovgaard did a great job of allowing the flexibility of micro-managing or having auto-tasks which are extremely nice. There are great incentives to upgrading, exploring new areas, new talents, new development, new research, etc. Lots of entertainment, lots of gameplay areas to explore. Definitely recommend. Especially considering how the Dev is adding new things and fixing bugs, the ability to add mods, lots of exciting stuff. Would recommend for sure! \\n\\nAlso, it was developed by a single dude, which is even more impressive considering the depth and price. This game was undoubtedly one of the most creative games I\\'ve ever played. Not to mention it\\'s from a solo indie developer, which I love. I love how the UI makes you actually feel like you\\'re a detective/investigator trying to figure out what happened in Her Story. The way you search for clues and try to piece it all together is so cool. I\\'m definitely going to play the new game Telling Lies when it comes out. Cannot recommend this game enough, it\\'s freaking awesome!! Defies actual war logic. Even when you surround the enemy with better tactics or more superior numbers, you can still lose the battles for no apparent reason. Couldn\\'t play more than an hour cause it was so bad.'"
      ]
     },
     "execution_count": 24,
     "metadata": {},
     "output_type": "execute_result"
    }
   ],
   "source": [
    "user_large_data[76561198036391642]"
   ]
  },
  {
   "cell_type": "code",
   "execution_count": 29,
   "id": "315dc25e",
   "metadata": {},
   "outputs": [
    {
     "data": {
      "text/plain": [
       "6069"
      ]
     },
     "execution_count": 29,
     "metadata": {},
     "output_type": "execute_result"
    }
   ],
   "source": [
    "len(user_large_data[76561198036391642])"
   ]
  },
  {
   "cell_type": "code",
   "execution_count": 20,
   "id": "f5e0612c",
   "metadata": {},
   "outputs": [
    {
     "data": {
      "text/plain": [
       "5163475"
      ]
     },
     "execution_count": 20,
     "metadata": {},
     "output_type": "execute_result"
    }
   ],
   "source": [
    "len(user_large_data)"
   ]
  },
  {
   "cell_type": "code",
   "execution_count": 22,
   "id": "12cffdcb",
   "metadata": {},
   "outputs": [
    {
     "data": {
      "text/plain": [
       "5170450"
      ]
     },
     "execution_count": 22,
     "metadata": {},
     "output_type": "execute_result"
    }
   ],
   "source": [
    "df_large[\"steamid\"].nunique()"
   ]
  },
  {
   "cell_type": "code",
   "execution_count": 26,
   "id": "96e384fd",
   "metadata": {},
   "outputs": [],
   "source": [
    "rev = df_large[df_large[\"steamid\"] == 76561198036391642][\"review\"]"
   ]
  },
  {
   "cell_type": "code",
   "execution_count": 27,
   "id": "ed28843b",
   "metadata": {},
   "outputs": [],
   "source": [
    "rev = ' '.join(list(rev))"
   ]
  },
  {
   "cell_type": "code",
   "execution_count": 28,
   "id": "9eeb377d",
   "metadata": {},
   "outputs": [
    {
     "data": {
      "text/plain": [
       "6068"
      ]
     },
     "execution_count": 28,
     "metadata": {},
     "output_type": "execute_result"
    }
   ],
   "source": [
    "len(rev)"
   ]
  },
  {
   "cell_type": "code",
   "execution_count": 32,
   "id": "78309dbb",
   "metadata": {},
   "outputs": [],
   "source": [
    "user_large_dataframe = pd.DataFrame(list(user_large_data.items()),\n",
    "                   columns=['steamid', 'reviews'])"
   ]
  },
  {
   "cell_type": "code",
   "execution_count": 31,
   "id": "2a0743ee",
   "metadata": {},
   "outputs": [],
   "source": [
    "# user_large_dataframe = pd.DataFrame(user_large_data)"
   ]
  },
  {
   "cell_type": "code",
   "execution_count": 37,
   "id": "edcb22f4",
   "metadata": {},
   "outputs": [],
   "source": [
    "user_large_dataframe.to_csv(\"./Dataset/user_large.csv\")"
   ]
  },
  {
   "cell_type": "code",
   "execution_count": 36,
   "id": "59624288",
   "metadata": {},
   "outputs": [
    {
     "data": {
      "text/html": [
       "<div>\n",
       "<style scoped>\n",
       "    .dataframe tbody tr th:only-of-type {\n",
       "        vertical-align: middle;\n",
       "    }\n",
       "\n",
       "    .dataframe tbody tr th {\n",
       "        vertical-align: top;\n",
       "    }\n",
       "\n",
       "    .dataframe thead th {\n",
       "        text-align: right;\n",
       "    }\n",
       "</style>\n",
       "<table border=\"1\" class=\"dataframe\">\n",
       "  <thead>\n",
       "    <tr style=\"text-align: right;\">\n",
       "      <th></th>\n",
       "      <th>steamid</th>\n",
       "      <th>reviews</th>\n",
       "    </tr>\n",
       "  </thead>\n",
       "  <tbody>\n",
       "    <tr>\n",
       "      <th>0</th>\n",
       "      <td>76561198147524600</td>\n",
       "      <td>This game locks up after the first chapter an...</td>\n",
       "    </tr>\n",
       "    <tr>\n",
       "      <th>1</th>\n",
       "      <td>76561198036391642</td>\n",
       "      <td>I'm a huge Game of Thrones fan, but even that...</td>\n",
       "    </tr>\n",
       "    <tr>\n",
       "      <th>2</th>\n",
       "      <td>76561198068984010</td>\n",
       "      <td>zrhhhhhhh is nen hrsn :) uio a4 ui a4 oip Sch...</td>\n",
       "    </tr>\n",
       "    <tr>\n",
       "      <th>3</th>\n",
       "      <td>76561198130204844</td>\n",
       "      <td>SOMETIMES THE WRITTEN WORD IS STRONGER THEN A...</td>\n",
       "    </tr>\n",
       "    <tr>\n",
       "      <th>4</th>\n",
       "      <td>76561198054094015</td>\n",
       "      <td>went to applebees tonight and got the chicken...</td>\n",
       "    </tr>\n",
       "  </tbody>\n",
       "</table>\n",
       "</div>"
      ],
      "text/plain": [
       "             steamid                                            reviews\n",
       "0  76561198147524600   This game locks up after the first chapter an...\n",
       "1  76561198036391642   I'm a huge Game of Thrones fan, but even that...\n",
       "2  76561198068984010   zrhhhhhhh is nen hrsn :) uio a4 ui a4 oip Sch...\n",
       "3  76561198130204844   SOMETIMES THE WRITTEN WORD IS STRONGER THEN A...\n",
       "4  76561198054094015   went to applebees tonight and got the chicken..."
      ]
     },
     "execution_count": 36,
     "metadata": {},
     "output_type": "execute_result"
    }
   ],
   "source": [
    "user_large_dataframe.head()"
   ]
  }
 ],
 "metadata": {
  "kernelspec": {
   "display_name": "Python 3 (ipykernel)",
   "language": "python",
   "name": "python3"
  },
  "language_info": {
   "codemirror_mode": {
    "name": "ipython",
    "version": 3
   },
   "file_extension": ".py",
   "mimetype": "text/x-python",
   "name": "python",
   "nbconvert_exporter": "python",
   "pygments_lexer": "ipython3",
   "version": "3.9.5"
  }
 },
 "nbformat": 4,
 "nbformat_minor": 5
}
