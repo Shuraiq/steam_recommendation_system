{
 "cells": [
  {
   "cell_type": "code",
   "execution_count": 1,
   "id": "6ea8ad1d",
   "metadata": {},
   "outputs": [],
   "source": [
    "import pandas as pd\n",
    "import numpy as np"
   ]
  },
  {
   "cell_type": "code",
   "execution_count": 15,
   "id": "582af526",
   "metadata": {},
   "outputs": [],
   "source": [
    "df_game_large = pd.read_csv('./Dataset/app_large_split.csv')"
   ]
  },
  {
   "cell_type": "code",
   "execution_count": 16,
   "id": "74054612",
   "metadata": {},
   "outputs": [
    {
     "data": {
      "text/plain": [
       "6599"
      ]
     },
     "execution_count": 16,
     "metadata": {},
     "output_type": "execute_result"
    }
   ],
   "source": [
    "len(df_game_large)"
   ]
  },
  {
   "cell_type": "code",
   "execution_count": 17,
   "id": "c02c567b",
   "metadata": {},
   "outputs": [
    {
     "data": {
      "text/html": [
       "<div>\n",
       "<style scoped>\n",
       "    .dataframe tbody tr th:only-of-type {\n",
       "        vertical-align: middle;\n",
       "    }\n",
       "\n",
       "    .dataframe tbody tr th {\n",
       "        vertical-align: top;\n",
       "    }\n",
       "\n",
       "    .dataframe thead th {\n",
       "        text-align: right;\n",
       "    }\n",
       "</style>\n",
       "<table border=\"1\" class=\"dataframe\">\n",
       "  <thead>\n",
       "    <tr style=\"text-align: right;\">\n",
       "      <th></th>\n",
       "      <th>Unnamed: 0</th>\n",
       "      <th>Unnamed: 0.1</th>\n",
       "      <th>reviews</th>\n",
       "      <th>appid</th>\n",
       "      <th>word_seperated_reviews</th>\n",
       "    </tr>\n",
       "  </thead>\n",
       "  <tbody>\n",
       "    <tr>\n",
       "      <th>0</th>\n",
       "      <td>0</td>\n",
       "      <td>0</td>\n",
       "      <td>This game locks up after the first chapter and...</td>\n",
       "      <td>208730</td>\n",
       "      <td>['This', 'game', 'locks', 'up', 'after', 'the'...</td>\n",
       "    </tr>\n",
       "    <tr>\n",
       "      <th>1</th>\n",
       "      <td>1</td>\n",
       "      <td>1</td>\n",
       "      <td>The old Metroidvania with an interesting visua...</td>\n",
       "      <td>208750</td>\n",
       "      <td>['The', 'old', 'Metroidvania', 'with', 'an', '...</td>\n",
       "    </tr>\n",
       "    <tr>\n",
       "      <th>2</th>\n",
       "      <td>2</td>\n",
       "      <td>2</td>\n",
       "      <td>DIFFICULTY\\nEasy\\n\\nGRAPHICS\\nMeh\\n\\nBOSS FIGH...</td>\n",
       "      <td>209000</td>\n",
       "      <td>['DIFFICULTY', 'Easy', 'GRAPHICS', 'Meh', 'BOS...</td>\n",
       "    </tr>\n",
       "    <tr>\n",
       "      <th>3</th>\n",
       "      <td>3</td>\n",
       "      <td>3</td>\n",
       "      <td>I guess this is just not my kind of game. Fans...</td>\n",
       "      <td>209060</td>\n",
       "      <td>['I', 'guess', 'this', 'is', 'just', 'not', 'm...</td>\n",
       "    </tr>\n",
       "    <tr>\n",
       "      <th>4</th>\n",
       "      <td>4</td>\n",
       "      <td>4</td>\n",
       "      <td>I really enjoy this game and the teamwork mech...</td>\n",
       "      <td>209080</td>\n",
       "      <td>['I', 'really', 'enjoy', 'this', 'game', 'and'...</td>\n",
       "    </tr>\n",
       "  </tbody>\n",
       "</table>\n",
       "</div>"
      ],
      "text/plain": [
       "   Unnamed: 0  Unnamed: 0.1  \\\n",
       "0           0             0   \n",
       "1           1             1   \n",
       "2           2             2   \n",
       "3           3             3   \n",
       "4           4             4   \n",
       "\n",
       "                                             reviews   appid  \\\n",
       "0  This game locks up after the first chapter and...  208730   \n",
       "1  The old Metroidvania with an interesting visua...  208750   \n",
       "2  DIFFICULTY\\nEasy\\n\\nGRAPHICS\\nMeh\\n\\nBOSS FIGH...  209000   \n",
       "3  I guess this is just not my kind of game. Fans...  209060   \n",
       "4  I really enjoy this game and the teamwork mech...  209080   \n",
       "\n",
       "                              word_seperated_reviews  \n",
       "0  ['This', 'game', 'locks', 'up', 'after', 'the'...  \n",
       "1  ['The', 'old', 'Metroidvania', 'with', 'an', '...  \n",
       "2  ['DIFFICULTY', 'Easy', 'GRAPHICS', 'Meh', 'BOS...  \n",
       "3  ['I', 'guess', 'this', 'is', 'just', 'not', 'm...  \n",
       "4  ['I', 'really', 'enjoy', 'this', 'game', 'and'...  "
      ]
     },
     "execution_count": 17,
     "metadata": {},
     "output_type": "execute_result"
    }
   ],
   "source": [
    "df_game_large.head()"
   ]
  },
  {
   "cell_type": "code",
   "execution_count": 5,
   "id": "8d55a564",
   "metadata": {},
   "outputs": [],
   "source": [
    "# df_game_large[\"word_seperated_reviews\"] = df_game_large[\"reviews\"].apply(lambda x: x.split())"
   ]
  },
  {
   "cell_type": "code",
   "execution_count": 19,
   "id": "26ef980c",
   "metadata": {},
   "outputs": [],
   "source": [
    "# df_game_large.head()"
   ]
  },
  {
   "cell_type": "code",
   "execution_count": 18,
   "id": "d6caa011",
   "metadata": {},
   "outputs": [],
   "source": [
    "# df_game_large.to_csv(\"./Dataset/app_large_split.csv\")"
   ]
  },
  {
   "cell_type": "code",
   "execution_count": 2,
   "id": "367a4f76",
   "metadata": {},
   "outputs": [],
   "source": [
    "df_user_large = pd.read_csv('./Dataset/user_large.csv')"
   ]
  },
  {
   "cell_type": "code",
   "execution_count": 3,
   "id": "71111360",
   "metadata": {},
   "outputs": [],
   "source": [
    "df_user_large_sub = df_user_large.iloc[:100000]"
   ]
  },
  {
   "cell_type": "code",
   "execution_count": 48,
   "id": "f543c0e3",
   "metadata": {},
   "outputs": [],
   "source": [
    "df_user_large_subcsv = df_user_large.iloc[:100000]\n",
    "df_user_large_subcsv.to_csv(\"./Dataset/user_large_sub.csv\")"
   ]
  },
  {
   "cell_type": "code",
   "execution_count": 4,
   "id": "361741d9",
   "metadata": {},
   "outputs": [
    {
     "data": {
      "text/plain": [
       "100000"
      ]
     },
     "execution_count": 4,
     "metadata": {},
     "output_type": "execute_result"
    }
   ],
   "source": [
    "len(df_user_large_sub)"
   ]
  },
  {
   "cell_type": "code",
   "execution_count": 5,
   "id": "ba8baa8b",
   "metadata": {},
   "outputs": [
    {
     "data": {
      "text/plain": [
       "5163475"
      ]
     },
     "execution_count": 5,
     "metadata": {},
     "output_type": "execute_result"
    }
   ],
   "source": [
    "len(df_user_large)"
   ]
  },
  {
   "cell_type": "code",
   "execution_count": 6,
   "id": "1d9eb542",
   "metadata": {},
   "outputs": [
    {
     "data": {
      "text/html": [
       "<div>\n",
       "<style scoped>\n",
       "    .dataframe tbody tr th:only-of-type {\n",
       "        vertical-align: middle;\n",
       "    }\n",
       "\n",
       "    .dataframe tbody tr th {\n",
       "        vertical-align: top;\n",
       "    }\n",
       "\n",
       "    .dataframe thead th {\n",
       "        text-align: right;\n",
       "    }\n",
       "</style>\n",
       "<table border=\"1\" class=\"dataframe\">\n",
       "  <thead>\n",
       "    <tr style=\"text-align: right;\">\n",
       "      <th></th>\n",
       "      <th>Unnamed: 0</th>\n",
       "      <th>steamid</th>\n",
       "      <th>reviews</th>\n",
       "    </tr>\n",
       "  </thead>\n",
       "  <tbody>\n",
       "    <tr>\n",
       "      <th>0</th>\n",
       "      <td>0</td>\n",
       "      <td>76561198147524600</td>\n",
       "      <td>This game locks up after the first chapter an...</td>\n",
       "    </tr>\n",
       "    <tr>\n",
       "      <th>1</th>\n",
       "      <td>1</td>\n",
       "      <td>76561198036391642</td>\n",
       "      <td>I'm a huge Game of Thrones fan, but even that...</td>\n",
       "    </tr>\n",
       "    <tr>\n",
       "      <th>2</th>\n",
       "      <td>2</td>\n",
       "      <td>76561198068984010</td>\n",
       "      <td>zrhhhhhhh is nen hrsn :) uio a4 ui a4 oip Sch...</td>\n",
       "    </tr>\n",
       "    <tr>\n",
       "      <th>3</th>\n",
       "      <td>3</td>\n",
       "      <td>76561198130204844</td>\n",
       "      <td>SOMETIMES THE WRITTEN WORD IS STRONGER THEN A...</td>\n",
       "    </tr>\n",
       "    <tr>\n",
       "      <th>4</th>\n",
       "      <td>4</td>\n",
       "      <td>76561198054094015</td>\n",
       "      <td>went to applebees tonight and got the chicken...</td>\n",
       "    </tr>\n",
       "  </tbody>\n",
       "</table>\n",
       "</div>"
      ],
      "text/plain": [
       "   Unnamed: 0            steamid  \\\n",
       "0           0  76561198147524600   \n",
       "1           1  76561198036391642   \n",
       "2           2  76561198068984010   \n",
       "3           3  76561198130204844   \n",
       "4           4  76561198054094015   \n",
       "\n",
       "                                             reviews  \n",
       "0   This game locks up after the first chapter an...  \n",
       "1   I'm a huge Game of Thrones fan, but even that...  \n",
       "2   zrhhhhhhh is nen hrsn :) uio a4 ui a4 oip Sch...  \n",
       "3   SOMETIMES THE WRITTEN WORD IS STRONGER THEN A...  \n",
       "4   went to applebees tonight and got the chicken...  "
      ]
     },
     "execution_count": 6,
     "metadata": {},
     "output_type": "execute_result"
    }
   ],
   "source": [
    "df_user_large.head()"
   ]
  },
  {
   "cell_type": "code",
   "execution_count": 13,
   "id": "514031fd",
   "metadata": {},
   "outputs": [
    {
     "data": {
      "text/plain": [
       "281"
      ]
     },
     "execution_count": 13,
     "metadata": {},
     "output_type": "execute_result"
    }
   ],
   "source": [
    "len(df_user_large.iloc[4][\"reviews\"].split())"
   ]
  },
  {
   "cell_type": "code",
   "execution_count": 7,
   "id": "be241825",
   "metadata": {},
   "outputs": [
    {
     "name": "stderr",
     "output_type": "stream",
     "text": [
      "C:\\Users\\shura\\AppData\\Local\\Temp/ipykernel_13048/13399717.py:1: SettingWithCopyWarning: \n",
      "A value is trying to be set on a copy of a slice from a DataFrame.\n",
      "Try using .loc[row_indexer,col_indexer] = value instead\n",
      "\n",
      "See the caveats in the documentation: https://pandas.pydata.org/pandas-docs/stable/user_guide/indexing.html#returning-a-view-versus-a-copy\n",
      "  df_user_large_sub[\"word_seperated_reviews\"] = df_user_large_sub[\"reviews\"].apply(lambda x: x.split())\n"
     ]
    }
   ],
   "source": [
    "df_user_large_sub[\"word_seperated_reviews\"] = df_user_large_sub[\"reviews\"].apply(lambda x: x.split())"
   ]
  },
  {
   "cell_type": "code",
   "execution_count": 8,
   "id": "99427b20",
   "metadata": {},
   "outputs": [
    {
     "data": {
      "text/html": [
       "<div>\n",
       "<style scoped>\n",
       "    .dataframe tbody tr th:only-of-type {\n",
       "        vertical-align: middle;\n",
       "    }\n",
       "\n",
       "    .dataframe tbody tr th {\n",
       "        vertical-align: top;\n",
       "    }\n",
       "\n",
       "    .dataframe thead th {\n",
       "        text-align: right;\n",
       "    }\n",
       "</style>\n",
       "<table border=\"1\" class=\"dataframe\">\n",
       "  <thead>\n",
       "    <tr style=\"text-align: right;\">\n",
       "      <th></th>\n",
       "      <th>Unnamed: 0</th>\n",
       "      <th>steamid</th>\n",
       "      <th>reviews</th>\n",
       "      <th>word_seperated_reviews</th>\n",
       "    </tr>\n",
       "  </thead>\n",
       "  <tbody>\n",
       "    <tr>\n",
       "      <th>0</th>\n",
       "      <td>0</td>\n",
       "      <td>76561198147524600</td>\n",
       "      <td>This game locks up after the first chapter an...</td>\n",
       "      <td>[This, game, locks, up, after, the, first, cha...</td>\n",
       "    </tr>\n",
       "    <tr>\n",
       "      <th>1</th>\n",
       "      <td>1</td>\n",
       "      <td>76561198036391642</td>\n",
       "      <td>I'm a huge Game of Thrones fan, but even that...</td>\n",
       "      <td>[I'm, a, huge, Game, of, Thrones, fan,, but, e...</td>\n",
       "    </tr>\n",
       "    <tr>\n",
       "      <th>2</th>\n",
       "      <td>2</td>\n",
       "      <td>76561198068984010</td>\n",
       "      <td>zrhhhhhhh is nen hrsn :) uio a4 ui a4 oip Sch...</td>\n",
       "      <td>[zrhhhhhhh, is, nen, hrsn, :), uio, a4, ui, a4...</td>\n",
       "    </tr>\n",
       "    <tr>\n",
       "      <th>3</th>\n",
       "      <td>3</td>\n",
       "      <td>76561198130204844</td>\n",
       "      <td>SOMETIMES THE WRITTEN WORD IS STRONGER THEN A...</td>\n",
       "      <td>[SOMETIMES, THE, WRITTEN, WORD, IS, STRONGER, ...</td>\n",
       "    </tr>\n",
       "    <tr>\n",
       "      <th>4</th>\n",
       "      <td>4</td>\n",
       "      <td>76561198054094015</td>\n",
       "      <td>went to applebees tonight and got the chicken...</td>\n",
       "      <td>[went, to, applebees, tonight, and, got, the, ...</td>\n",
       "    </tr>\n",
       "  </tbody>\n",
       "</table>\n",
       "</div>"
      ],
      "text/plain": [
       "   Unnamed: 0            steamid  \\\n",
       "0           0  76561198147524600   \n",
       "1           1  76561198036391642   \n",
       "2           2  76561198068984010   \n",
       "3           3  76561198130204844   \n",
       "4           4  76561198054094015   \n",
       "\n",
       "                                             reviews  \\\n",
       "0   This game locks up after the first chapter an...   \n",
       "1   I'm a huge Game of Thrones fan, but even that...   \n",
       "2   zrhhhhhhh is nen hrsn :) uio a4 ui a4 oip Sch...   \n",
       "3   SOMETIMES THE WRITTEN WORD IS STRONGER THEN A...   \n",
       "4   went to applebees tonight and got the chicken...   \n",
       "\n",
       "                              word_seperated_reviews  \n",
       "0  [This, game, locks, up, after, the, first, cha...  \n",
       "1  [I'm, a, huge, Game, of, Thrones, fan,, but, e...  \n",
       "2  [zrhhhhhhh, is, nen, hrsn, :), uio, a4, ui, a4...  \n",
       "3  [SOMETIMES, THE, WRITTEN, WORD, IS, STRONGER, ...  \n",
       "4  [went, to, applebees, tonight, and, got, the, ...  "
      ]
     },
     "execution_count": 8,
     "metadata": {},
     "output_type": "execute_result"
    }
   ],
   "source": [
    "df_user_large_sub.head()"
   ]
  },
  {
   "cell_type": "code",
   "execution_count": 9,
   "id": "d491256c",
   "metadata": {},
   "outputs": [
    {
     "data": {
      "text/plain": [
       "100000"
      ]
     },
     "execution_count": 9,
     "metadata": {},
     "output_type": "execute_result"
    }
   ],
   "source": [
    "len(df_user_large_sub)"
   ]
  },
  {
   "cell_type": "code",
   "execution_count": 10,
   "id": "33927d79",
   "metadata": {},
   "outputs": [],
   "source": [
    "df_user_large_sub.to_csv(\"./Dataset/user_large_split.csv\")"
   ]
  },
  {
   "cell_type": "code",
   "execution_count": 20,
   "id": "4c105fb7",
   "metadata": {},
   "outputs": [
    {
     "data": {
      "text/plain": [
       "Unnamed: 0                                                            99999\n",
       "steamid                                                   76561197960561520\n",
       "reviews                    Highly entertaining rogue-like.  Pixel art an...\n",
       "word_seperated_reviews    [Highly, entertaining, rogue-like., Pixel, art...\n",
       "Name: 99999, dtype: object"
      ]
     },
     "execution_count": 20,
     "metadata": {},
     "output_type": "execute_result"
    }
   ],
   "source": [
    "df_user_large_sub.iloc[99999]"
   ]
  },
  {
   "cell_type": "markdown",
   "id": "ad506c3d",
   "metadata": {},
   "source": [
    "### Doc2Vec"
   ]
  },
  {
   "cell_type": "code",
   "execution_count": 20,
   "id": "091fa128",
   "metadata": {},
   "outputs": [],
   "source": [
    "list_of_list_of_words_users = list(df_user_large_sub[\"word_seperated_reviews\"])\n",
    "list_of_list_of_words_games = list(df_game_large[\"word_seperated_reviews\"])"
   ]
  },
  {
   "cell_type": "code",
   "execution_count": 21,
   "id": "cfb105bd",
   "metadata": {},
   "outputs": [],
   "source": [
    "total_list_of_list_of_words = list_of_list_of_words_users + list_of_list_of_words_games"
   ]
  },
  {
   "cell_type": "code",
   "execution_count": 34,
   "id": "8b940b10",
   "metadata": {},
   "outputs": [
    {
     "data": {
      "text/plain": [
       "63959.4"
      ]
     },
     "execution_count": 34,
     "metadata": {},
     "output_type": "execute_result"
    }
   ],
   "source": [
    "(len(total_list_of_list_of_words)/100)*60"
   ]
  },
  {
   "cell_type": "code",
   "execution_count": 23,
   "id": "2ff37f73",
   "metadata": {},
   "outputs": [
    {
     "data": {
      "text/plain": [
       "106599"
      ]
     },
     "execution_count": 23,
     "metadata": {},
     "output_type": "execute_result"
    }
   ],
   "source": [
    "len(list_of_list_of_words_users)+len(list_of_list_of_words_games)"
   ]
  },
  {
   "cell_type": "code",
   "execution_count": 24,
   "id": "a849ac23",
   "metadata": {},
   "outputs": [
    {
     "name": "stdout",
     "output_type": "stream",
     "text": [
      "Requirement already satisfied: gensim in c:\\users\\shura\\miniconda3\\lib\\site-packages (4.1.2)\n",
      "Requirement already satisfied: numpy>=1.17.0 in c:\\users\\shura\\miniconda3\\lib\\site-packages (from gensim) (1.20.3)\n",
      "Requirement already satisfied: scipy>=0.18.1 in c:\\users\\shura\\miniconda3\\lib\\site-packages (from gensim) (1.7.1)\n",
      "Requirement already satisfied: smart-open>=1.8.1 in c:\\users\\shura\\miniconda3\\lib\\site-packages (from gensim) (5.2.1)\n",
      "Requirement already satisfied: Cython==0.29.23 in c:\\users\\shura\\miniconda3\\lib\\site-packages (from gensim) (0.29.23)\n"
     ]
    }
   ],
   "source": [
    "!pip install gensim"
   ]
  },
  {
   "cell_type": "code",
   "execution_count": 25,
   "id": "f425c001",
   "metadata": {},
   "outputs": [],
   "source": [
    "from gensim.models.doc2vec import Doc2Vec, TaggedDocument\n",
    "import gensim\n",
    "# import gensim.downloader as api"
   ]
  },
  {
   "cell_type": "code",
   "execution_count": 26,
   "id": "a33212ca",
   "metadata": {},
   "outputs": [],
   "source": [
    "def tagged_document(list_of_list_of_words):\n",
    "    for i,list_of_words in enumerate(list_of_list_of_words):\n",
    "        yield gensim.models.doc2vec.TaggedDocument(list_of_words,[i])\n",
    "        \n",
    "# data_for_training = list(tagged_document())"
   ]
  },
  {
   "cell_type": "code",
   "execution_count": 39,
   "id": "5543a10e",
   "metadata": {},
   "outputs": [
    {
     "name": "stdout",
     "output_type": "stream",
     "text": [
      "TaggedDocument(['This', 'game', 'locks', 'up', 'after', 'the', 'first', 'chapter', 'and', 'I', 'was', 'refused', 'a', 'refund.', 'Let', 'the', 'buyer', 'beware!'], [0])\n"
     ]
    }
   ],
   "source": [
    "# import random\n",
    "# rand_total_list_of_list_of_words = random.sample(total_list_of_list_of_words,int((len(total_list_of_list_of_words)*60)/100))\n",
    "\n",
    "data_for_training = list(tagged_document(total_list_of_list_of_words))\n",
    "print(data_for_training[0])"
   ]
  },
  {
   "cell_type": "code",
   "execution_count": 40,
   "id": "5fbdaffb",
   "metadata": {},
   "outputs": [
    {
     "data": {
      "text/plain": [
       "106599"
      ]
     },
     "execution_count": 40,
     "metadata": {},
     "output_type": "execute_result"
    }
   ],
   "source": [
    "len(data_for_training)"
   ]
  },
  {
   "cell_type": "code",
   "execution_count": 41,
   "id": "70682145",
   "metadata": {},
   "outputs": [],
   "source": [
    "model = gensim.models.doc2vec.Doc2Vec(vector_size=100,min_count=4,epochs=15)\n",
    "model.build_vocab(data_for_training)"
   ]
  },
  {
   "cell_type": "code",
   "execution_count": 42,
   "id": "6a6987f0",
   "metadata": {},
   "outputs": [],
   "source": [
    "model.train(data_for_training,total_examples=model.corpus_count,epochs=model.epochs)"
   ]
  },
  {
   "cell_type": "code",
   "execution_count": 43,
   "id": "bc80b2f4",
   "metadata": {},
   "outputs": [],
   "source": [
    "model.save(\"model28_11.model\")"
   ]
  },
  {
   "cell_type": "code",
   "execution_count": 47,
   "id": "07c6ae12",
   "metadata": {},
   "outputs": [
    {
     "data": {
      "text/plain": [
       "106599"
      ]
     },
     "execution_count": 47,
     "metadata": {},
     "output_type": "execute_result"
    }
   ],
   "source": [
    "len(model.dv)"
   ]
  },
  {
   "cell_type": "code",
   "execution_count": null,
   "id": "89a3dcd8",
   "metadata": {},
   "outputs": [],
   "source": []
  },
  {
   "cell_type": "code",
   "execution_count": null,
   "id": "6076adc2",
   "metadata": {},
   "outputs": [],
   "source": []
  }
 ],
 "metadata": {
  "kernelspec": {
   "display_name": "Python 3 (ipykernel)",
   "language": "python",
   "name": "python3"
  },
  "language_info": {
   "codemirror_mode": {
    "name": "ipython",
    "version": 3
   },
   "file_extension": ".py",
   "mimetype": "text/x-python",
   "name": "python",
   "nbconvert_exporter": "python",
   "pygments_lexer": "ipython3",
   "version": "3.9.5"
  }
 },
 "nbformat": 4,
 "nbformat_minor": 5
}
