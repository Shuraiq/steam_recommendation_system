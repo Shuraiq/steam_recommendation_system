{
 "cells": [
  {
   "cell_type": "code",
   "execution_count": 1,
   "id": "d764d47e",
   "metadata": {},
   "outputs": [
    {
     "name": "stdout",
     "output_type": "stream",
     "text": [
      "Requirement already satisfied: gensim in c:\\users\\shura\\miniconda3\\lib\\site-packages (4.1.2)\n",
      "Requirement already satisfied: scipy>=0.18.1 in c:\\users\\shura\\miniconda3\\lib\\site-packages (from gensim) (1.7.1)\n",
      "Requirement already satisfied: Cython==0.29.23 in c:\\users\\shura\\miniconda3\\lib\\site-packages (from gensim) (0.29.23)\n",
      "Requirement already satisfied: numpy>=1.17.0 in c:\\users\\shura\\miniconda3\\lib\\site-packages (from gensim) (1.20.3)\n",
      "Requirement already satisfied: smart-open>=1.8.1 in c:\\users\\shura\\miniconda3\\lib\\site-packages (from gensim) (5.2.1)\n"
     ]
    }
   ],
   "source": [
    "!pip install gensim"
   ]
  },
  {
   "cell_type": "code",
   "execution_count": 4,
   "id": "ea73015c",
   "metadata": {},
   "outputs": [],
   "source": [
    "import pandas as pd\n",
    "import numpy as np\n",
    "from tqdm import tqdm"
   ]
  },
  {
   "cell_type": "code",
   "execution_count": 2,
   "id": "1a19547c",
   "metadata": {},
   "outputs": [],
   "source": [
    "from gensim.models.doc2vec import Doc2Vec, TaggedDocument"
   ]
  },
  {
   "cell_type": "code",
   "execution_count": 3,
   "id": "814e8a8f",
   "metadata": {},
   "outputs": [],
   "source": [
    "model = Doc2Vec.load(\"model28_11.model\")"
   ]
  },
  {
   "cell_type": "code",
   "execution_count": 12,
   "id": "26311e4b",
   "metadata": {},
   "outputs": [],
   "source": [
    "vectors = model.dv"
   ]
  },
  {
   "cell_type": "code",
   "execution_count": 13,
   "id": "c45cbf34",
   "metadata": {},
   "outputs": [
    {
     "data": {
      "text/plain": [
       "106599"
      ]
     },
     "execution_count": 13,
     "metadata": {},
     "output_type": "execute_result"
    }
   ],
   "source": [
    "len(vectors)"
   ]
  },
  {
   "cell_type": "code",
   "execution_count": 14,
   "id": "1bdd5901",
   "metadata": {},
   "outputs": [
    {
     "data": {
      "text/plain": [
       "gensim.models.keyedvectors.KeyedVectors"
      ]
     },
     "execution_count": 14,
     "metadata": {},
     "output_type": "execute_result"
    }
   ],
   "source": [
    "type(vectors)"
   ]
  },
  {
   "cell_type": "code",
   "execution_count": 7,
   "id": "d98e55d9",
   "metadata": {},
   "outputs": [],
   "source": [
    "df_user_large_sub = pd.read_csv('./Dataset/user_large_sub.csv')"
   ]
  },
  {
   "cell_type": "code",
   "execution_count": 24,
   "id": "67117a9c",
   "metadata": {},
   "outputs": [],
   "source": [
    "df_user_large_sub[\"vector\"] = \"\"\n",
    "df_user_large_sub[\"similar_movies\"] = \"\""
   ]
  },
  {
   "cell_type": "code",
   "execution_count": 25,
   "id": "d9bd574b",
   "metadata": {},
   "outputs": [
    {
     "data": {
      "text/plain": [
       "100000"
      ]
     },
     "execution_count": 25,
     "metadata": {},
     "output_type": "execute_result"
    }
   ],
   "source": [
    "len(df_user_large_sub)"
   ]
  },
  {
   "cell_type": "code",
   "execution_count": 53,
   "id": "8ef28cb5",
   "metadata": {},
   "outputs": [],
   "source": [
    "vector_users = []\n",
    "for i in range(len(df_user_large_sub)):\n",
    "    vector_users.append(vectors[i])"
   ]
  },
  {
   "cell_type": "code",
   "execution_count": 54,
   "id": "a0e1b41e",
   "metadata": {},
   "outputs": [
    {
     "data": {
      "text/plain": [
       "100000"
      ]
     },
     "execution_count": 54,
     "metadata": {},
     "output_type": "execute_result"
    }
   ],
   "source": [
    "len(vector_users)"
   ]
  },
  {
   "cell_type": "code",
   "execution_count": 55,
   "id": "3c2200f7",
   "metadata": {},
   "outputs": [
    {
     "data": {
      "text/plain": [
       "array([-0.78575736, -0.09054385,  0.46838367,  0.9832361 , -0.02706227,\n",
       "       -0.34711227,  0.3246628 ,  0.68327373, -0.09275664,  0.6832867 ,\n",
       "       -0.4638663 , -0.2721026 , -0.2185686 , -0.05706333, -0.24963011,\n",
       "       -1.3473387 ,  0.31726572, -0.01410613, -0.07596106, -0.19735612,\n",
       "        0.44413862,  0.33102244,  0.21742696, -0.10589665, -0.15171671,\n",
       "        0.76019853, -0.07380512, -0.22767402,  0.22061619, -0.07674544,\n",
       "        0.16446829,  0.19062991, -0.19467765, -0.15746705,  0.56441104,\n",
       "        0.29113472,  0.02462722,  0.51832426,  0.0144607 ,  0.00917917,\n",
       "        0.06313164,  0.03091989, -0.4752387 , -0.18587328, -0.14285293,\n",
       "       -0.00594245,  0.1372325 ,  0.2725535 , -0.09715315,  0.27850744,\n",
       "       -0.10292291,  0.01382737,  0.09611507,  0.3893879 ,  0.2893843 ,\n",
       "       -0.01478776,  0.1595865 ,  0.06775205, -0.09340931,  0.59970844,\n",
       "       -0.10526444,  0.60499305,  0.02396169,  0.22745976, -0.48671368,\n",
       "        0.52422625, -0.3782266 , -0.09805439, -0.19011238,  0.06393689,\n",
       "        0.19429615, -0.01996697,  0.46067053, -0.05852232, -0.40118453,\n",
       "       -0.5858905 , -0.49868575, -0.13819258,  0.2570454 , -0.32310584,\n",
       "       -0.46854946, -0.2888783 , -0.5814769 , -0.47064084, -0.65672576,\n",
       "        0.10752323, -0.3859785 ,  0.1401917 ,  0.27133566,  0.26474097,\n",
       "       -0.6526409 , -0.40518594,  0.02388946,  0.11580187,  0.06548975,\n",
       "       -0.40415204, -0.25307637,  0.14998089, -0.25897858, -0.4578156 ],\n",
       "      dtype=float32)"
      ]
     },
     "execution_count": 55,
     "metadata": {},
     "output_type": "execute_result"
    }
   ],
   "source": [
    "vector_users[0]"
   ]
  },
  {
   "cell_type": "code",
   "execution_count": 56,
   "id": "49719c77",
   "metadata": {},
   "outputs": [],
   "source": [
    "vector_games = []\n",
    "\n",
    "for i in range(100000,106599):\n",
    "    vector_games.append(vectors[i]) "
   ]
  },
  {
   "cell_type": "code",
   "execution_count": 57,
   "id": "0288593c",
   "metadata": {},
   "outputs": [
    {
     "data": {
      "text/plain": [
       "6599"
      ]
     },
     "execution_count": 57,
     "metadata": {},
     "output_type": "execute_result"
    }
   ],
   "source": [
    "len(vector_games)"
   ]
  },
  {
   "cell_type": "code",
   "execution_count": 58,
   "id": "fdbb20c1",
   "metadata": {},
   "outputs": [
    {
     "data": {
      "text/plain": [
       "array([-3.1530385e+00, -1.1142786e+00,  3.4752914e-01,  3.7529869e+00,\n",
       "        1.7422777e+00,  2.6501489e+00, -1.1812396e+00,  2.6794398e+00,\n",
       "        1.1421494e+00,  4.4639673e+00, -1.4211025e+00,  8.8810480e-01,\n",
       "       -1.0578581e+00, -1.7690834e+00, -1.7187191e+00,  1.8705043e+00,\n",
       "       -3.0048662e-01, -1.0741431e+00,  1.2365689e+00,  2.0522833e+00,\n",
       "        1.7205081e+00,  1.7520971e+00,  1.7090753e+00, -9.8843682e-01,\n",
       "       -2.2563117e+00,  2.9677492e-01,  1.9465989e+00, -1.7482401e+00,\n",
       "       -3.0252869e+00,  1.8122357e+00,  2.5888119e+00,  6.3076407e-01,\n",
       "       -2.4456051e-01,  2.5512500e+00,  6.9672382e-01,  2.6497438e+00,\n",
       "        3.2792319e-02,  2.5164313e+00, -1.5631472e+00,  9.3296826e-01,\n",
       "       -1.8045459e+00,  3.1248876e-01, -1.5274795e+00, -6.1410141e-01,\n",
       "       -1.0688348e+00,  2.1252553e+00,  1.1372100e+00,  2.2154858e+00,\n",
       "       -1.6023253e+00, -2.7523119e+00, -2.2122679e+00, -9.1336209e-01,\n",
       "       -1.9306301e+00,  1.2440971e+00,  2.9149985e-02, -2.9352343e-01,\n",
       "        1.5572890e+00, -3.8246632e-02,  2.3615584e+00,  3.9853084e+00,\n",
       "       -5.6010419e-01,  1.0108269e+00,  2.0332122e+00, -5.6597686e-01,\n",
       "       -3.1091683e+00,  2.0006270e+00, -4.0063839e+00, -6.9516534e-01,\n",
       "       -2.0131567e+00,  1.2292179e-01,  1.5759937e+00, -1.9657794e+00,\n",
       "       -5.5250055e-01, -4.2140216e-01, -2.8475145e-01, -4.7415423e+00,\n",
       "       -1.6506072e-03,  1.1113672e-02, -1.9259422e+00,  2.4278295e+00,\n",
       "       -4.0052029e-01, -2.9636720e-01,  1.1013098e+00, -1.6390842e-01,\n",
       "       -1.2691976e+00,  1.5102029e+00, -2.3691502e+00,  1.7375335e+00,\n",
       "       -1.0772268e+00, -1.1132975e+00, -1.3248427e+00, -1.8636363e+00,\n",
       "        3.4473572e+00,  2.4770439e+00,  1.4512004e+00, -3.2991276e+00,\n",
       "        1.2018625e+00, -6.7104101e-01,  1.6067668e+00, -4.2462599e-01],\n",
       "      dtype=float32)"
      ]
     },
     "execution_count": 58,
     "metadata": {},
     "output_type": "execute_result"
    }
   ],
   "source": [
    "vector_games[0]"
   ]
  },
  {
   "cell_type": "code",
   "execution_count": 69,
   "id": "207910a6",
   "metadata": {},
   "outputs": [
    {
     "name": "stderr",
     "output_type": "stream",
     "text": [
      "100%|█████████████████████████████████████████████████████████████████████████████████████████████████| 100000/100000 [00:21<00:00, 4613.70it/s]\n"
     ]
    }
   ],
   "source": [
    "similar_game_to_users = []\n",
    "for i in tqdm(range(len(df_user_large_sub))):\n",
    "    sim_games = vectors.most_similar(i,topn=10,clip_start=100000)\n",
    "    similar_games = []\n",
    "    for sim in sim_games:\n",
    "        similar_games.append(sim[0]-100000)\n",
    "    similar_game_to_users.append(similar_games)"
   ]
  },
  {
   "cell_type": "code",
   "execution_count": 70,
   "id": "1ec52266",
   "metadata": {},
   "outputs": [
    {
     "data": {
      "text/plain": [
       "100000"
      ]
     },
     "execution_count": 70,
     "metadata": {},
     "output_type": "execute_result"
    }
   ],
   "source": [
    "len(similar_game_to_users)"
   ]
  },
  {
   "cell_type": "code",
   "execution_count": 72,
   "id": "6bcfaf35",
   "metadata": {},
   "outputs": [
    {
     "data": {
      "text/plain": [
       "[5913, 6331, 6569, 6414, 5103, 6197, 4669, 6074, 6253, 6178]"
      ]
     },
     "execution_count": 72,
     "metadata": {},
     "output_type": "execute_result"
    }
   ],
   "source": [
    "similar_game_to_users[0]"
   ]
  },
  {
   "cell_type": "code",
   "execution_count": 78,
   "id": "2ab02ff3",
   "metadata": {},
   "outputs": [
    {
     "name": "stderr",
     "output_type": "stream",
     "text": [
      "100%|█████████████████████████████████████████████████████████████████████████████████████████████████████| 6599/6599 [00:01<00:00, 5226.84it/s]\n"
     ]
    }
   ],
   "source": [
    "similar_game_to_games = []\n",
    "for i in tqdm(range(100000,106599)):\n",
    "    sim_games = vectors.most_similar(i,topn=10,clip_start=100000)\n",
    "    similar_games = []\n",
    "    for sim in sim_games:\n",
    "        similar_games.append(sim[0]-100000)\n",
    "    similar_game_to_games.append(similar_games)"
   ]
  },
  {
   "cell_type": "code",
   "execution_count": 79,
   "id": "ade99416",
   "metadata": {},
   "outputs": [
    {
     "data": {
      "text/plain": [
       "6599"
      ]
     },
     "execution_count": 79,
     "metadata": {},
     "output_type": "execute_result"
    }
   ],
   "source": [
    "len(similar_game_to_games)"
   ]
  },
  {
   "cell_type": "code",
   "execution_count": 83,
   "id": "3d26e6f1",
   "metadata": {},
   "outputs": [
    {
     "data": {
      "text/plain": [
       "[694, 749, 130, 3081, 1323, 1631, 1725, 3421, 1242, 3451]"
      ]
     },
     "execution_count": 83,
     "metadata": {},
     "output_type": "execute_result"
    }
   ],
   "source": [
    "similar_game_to_games[1000]"
   ]
  },
  {
   "cell_type": "markdown",
   "id": "05b51374",
   "metadata": {},
   "source": [
    "### Saving the variables"
   ]
  },
  {
   "cell_type": "code",
   "execution_count": 1,
   "id": "d4211221",
   "metadata": {},
   "outputs": [],
   "source": [
    "import pickle"
   ]
  },
  {
   "cell_type": "code",
   "execution_count": 85,
   "id": "423003d0",
   "metadata": {},
   "outputs": [],
   "source": [
    "filename = 'vector_users'\n",
    "outfile = open(filename,'wb')\n",
    "\n",
    "pickle.dump(vector_users,outfile)\n",
    "outfile.close()"
   ]
  },
  {
   "cell_type": "code",
   "execution_count": 86,
   "id": "9fbbbefb",
   "metadata": {},
   "outputs": [],
   "source": [
    "filename = 'vector_games'\n",
    "outfile = open(filename,'wb')\n",
    "\n",
    "pickle.dump(vector_games,outfile)\n",
    "outfile.close()"
   ]
  },
  {
   "cell_type": "code",
   "execution_count": 87,
   "id": "f702b123",
   "metadata": {},
   "outputs": [],
   "source": [
    "filename = 'similar_game_to_users'\n",
    "outfile = open(filename,'wb')\n",
    "\n",
    "pickle.dump(similar_game_to_users,outfile)\n",
    "outfile.close()"
   ]
  },
  {
   "cell_type": "code",
   "execution_count": 88,
   "id": "d2f9b195",
   "metadata": {},
   "outputs": [],
   "source": [
    "filename = 'similar_game_to_games'\n",
    "outfile = open(filename,'wb')\n",
    "\n",
    "pickle.dump(similar_game_to_games,outfile)\n",
    "outfile.close()"
   ]
  },
  {
   "cell_type": "code",
   "execution_count": null,
   "id": "37cc3eeb",
   "metadata": {},
   "outputs": [],
   "source": []
  },
  {
   "cell_type": "code",
   "execution_count": 47,
   "id": "75d1deb8",
   "metadata": {},
   "outputs": [],
   "source": [
    "# df_user_large_sub = df_user_large_sub.loc[:, ~df_user_large_sub.columns.str.contains('^Unnamed')]"
   ]
  },
  {
   "cell_type": "code",
   "execution_count": null,
   "id": "bf63e6af",
   "metadata": {},
   "outputs": [],
   "source": [
    "#                 106599      \n",
    "#             100000    6599\n",
    "#         0-99999    100000-106598"
   ]
  },
  {
   "cell_type": "code",
   "execution_count": 5,
   "id": "596b3fda",
   "metadata": {},
   "outputs": [],
   "source": [
    "infile = open(\"similar_game_to_games\",'rb')\n",
    "new_similar_game_to_games = pickle.load(infile)\n",
    "infile.close()"
   ]
  },
  {
   "cell_type": "code",
   "execution_count": 6,
   "id": "5ee593ab",
   "metadata": {},
   "outputs": [],
   "source": [
    "infile = open(\"similar_game_to_users\",'rb')\n",
    "new_similar_game_to_users = pickle.load(infile)\n",
    "infile.close()"
   ]
  },
  {
   "cell_type": "code",
   "execution_count": 9,
   "id": "9f85ed8b",
   "metadata": {},
   "outputs": [
    {
     "data": {
      "text/plain": [
       "6599"
      ]
     },
     "execution_count": 9,
     "metadata": {},
     "output_type": "execute_result"
    }
   ],
   "source": [
    "len(new_similar_game_to_games)"
   ]
  },
  {
   "cell_type": "code",
   "execution_count": 8,
   "id": "a42cb416",
   "metadata": {},
   "outputs": [
    {
     "data": {
      "text/plain": [
       "100000"
      ]
     },
     "execution_count": 8,
     "metadata": {},
     "output_type": "execute_result"
    }
   ],
   "source": [
    "len(new_similar_game_to_users)"
   ]
  },
  {
   "cell_type": "markdown",
   "id": "7054e5e0",
   "metadata": {},
   "source": [
    "### Output data creation"
   ]
  },
  {
   "cell_type": "code",
   "execution_count": 2,
   "id": "4ba779d7",
   "metadata": {},
   "outputs": [],
   "source": [
    "df_game_large = pd.read_csv('./Dataset/app_large.csv')"
   ]
  },
  {
   "cell_type": "code",
   "execution_count": 3,
   "id": "0a715729",
   "metadata": {},
   "outputs": [
    {
     "data": {
      "text/plain": [
       "Index(['Unnamed: 0', 'reviews', 'appid'], dtype='object')"
      ]
     },
     "execution_count": 3,
     "metadata": {},
     "output_type": "execute_result"
    }
   ],
   "source": [
    "df_game_large.columns"
   ]
  },
  {
   "cell_type": "code",
   "execution_count": 4,
   "id": "139168ac",
   "metadata": {},
   "outputs": [],
   "source": [
    "df_user_large = pd.read_csv(\"./Dataset/user_large_sub.csv\")"
   ]
  },
  {
   "cell_type": "code",
   "execution_count": 13,
   "id": "3aab14ef",
   "metadata": {},
   "outputs": [
    {
     "data": {
      "text/plain": [
       "Index(['Unnamed: 0', 'Unnamed: 0.1', 'steamid', 'reviews'], dtype='object')"
      ]
     },
     "execution_count": 13,
     "metadata": {},
     "output_type": "execute_result"
    }
   ],
   "source": [
    "df_user_large.columns"
   ]
  },
  {
   "cell_type": "code",
   "execution_count": 14,
   "id": "960327db",
   "metadata": {},
   "outputs": [
    {
     "name": "stderr",
     "output_type": "stream",
     "text": [
      "100%|████████████████████████████████████████████████████████████████████████████████████████████████████████████| 100000/100000 [00:07<00:00, 12552.20it/s]\n"
     ]
    }
   ],
   "source": [
    "dict_users = []\n",
    "for i in tqdm(range(len(df_user_large))):\n",
    "    dict_user = {}\n",
    "    dict_user[\"userid\"] = df_user_large.iloc[i][\"steamid\"]\n",
    "#     dict_user_appid = df_user_large.iloc[i][\"appid\"]\n",
    "    dict_user[\"similar\"]= new_similar_game_to_users[i]\n",
    "    dict_users.append(dict_user)"
   ]
  },
  {
   "cell_type": "code",
   "execution_count": 17,
   "id": "780ca7aa",
   "metadata": {},
   "outputs": [
    {
     "data": {
      "text/plain": [
       "{'userid': 76561198008576331,\n",
       " 'similar': [4538, 3541, 1500, 3513, 3358, 4333, 3318, 2503, 5852, 6036]}"
      ]
     },
     "execution_count": 17,
     "metadata": {},
     "output_type": "execute_result"
    }
   ],
   "source": [
    "dict_users[1000]"
   ]
  },
  {
   "cell_type": "code",
   "execution_count": 20,
   "id": "452ff6cf",
   "metadata": {},
   "outputs": [
    {
     "name": "stderr",
     "output_type": "stream",
     "text": [
      "100%|████████████████████████████████████████████████████████████████████████████████████████████████████████████████| 6599/6599 [00:00<00:00, 12084.16it/s]\n"
     ]
    }
   ],
   "source": [
    "dict_games = []\n",
    "for i in tqdm(range(len(df_game_large))):\n",
    "    dict_game = {}\n",
    "    dict_game[\"appid\"] = df_game_large.iloc[i][\"appid\"]\n",
    "#     dict_user_appid = df_user_large.iloc[i][\"appid\"]\n",
    "    dict_game[\"similar\"]= new_similar_game_to_games[i]\n",
    "    dict_games.append(dict_game)"
   ]
  },
  {
   "cell_type": "code",
   "execution_count": 22,
   "id": "4fb2f58e",
   "metadata": {},
   "outputs": [
    {
     "data": {
      "text/plain": [
       "{'appid': 620240,\n",
       " 'similar': [694, 749, 130, 3081, 1323, 1631, 1725, 3421, 1242, 3451]}"
      ]
     },
     "execution_count": 22,
     "metadata": {},
     "output_type": "execute_result"
    }
   ],
   "source": [
    "dict_games[1000]"
   ]
  },
  {
   "cell_type": "code",
   "execution_count": 7,
   "id": "f266820c",
   "metadata": {},
   "outputs": [],
   "source": [
    "infile = open(\"dict_games\",'rb')\n",
    "dict_games = pickle.load(infile)\n",
    "infile.close()\n",
    "\n",
    "infile = open(\"dict_users\",'rb')\n",
    "dict_users = pickle.load(infile)\n",
    "infile.close()"
   ]
  },
  {
   "cell_type": "code",
   "execution_count": 14,
   "id": "9785bbe7",
   "metadata": {},
   "outputs": [
    {
     "name": "stderr",
     "output_type": "stream",
     "text": [
      "100%|███████████████████████████████████████████████████████████████████████████████████████████████████████████| 100000/100000 [00:00<00:00, 195139.73it/s]\n"
     ]
    }
   ],
   "source": [
    "dict_userids = []\n",
    "for i in tqdm(range(len(dict_users))):\n",
    "    dict_userid = {}\n",
    "    dict_userid[\"steamid\"] = dict_users[i][\"userid\"]\n",
    "    sim = []\n",
    "    for s in dict_users[i][\"similar\"]:\n",
    "        sim.append(dict_games[s][\"appid\"])\n",
    "    dict_userid[\"similar\"] = sim\n",
    "    \n",
    "    dict_userids.append(dict_userid)"
   ]
  },
  {
   "cell_type": "code",
   "execution_count": 17,
   "id": "121e76c2",
   "metadata": {},
   "outputs": [
    {
     "name": "stderr",
     "output_type": "stream",
     "text": [
      "100%|████████████████████████████████████████████████████████████████████████████████████████████████████████████████| 6599/6599 [00:00<00:00, 34277.48it/s]\n"
     ]
    }
   ],
   "source": [
    "dict_gameids = []\n",
    "for i in tqdm(range(len(dict_games))):\n",
    "    dict_gameid = {}\n",
    "    dict_gameid[\"appid\"] = dict_games[i][\"appid\"]\n",
    "    sim = []\n",
    "    for s in dict_games[i][\"similar\"]:\n",
    "        sim.append(dict_games[s][\"appid\"])\n",
    "    dict_gameid[\"similar\"] = sim\n",
    "    \n",
    "    dict_gameids.append(dict_gameid)"
   ]
  },
  {
   "cell_type": "code",
   "execution_count": 22,
   "id": "07d1087e",
   "metadata": {},
   "outputs": [
    {
     "data": {
      "text/plain": [
       "{'steamid': 76561198147524600,\n",
       " 'similar': [473460,\n",
       "  510680,\n",
       "  531890,\n",
       "  518120,\n",
       "  416690,\n",
       "  498600,\n",
       "  391520,\n",
       "  489900,\n",
       "  503630,\n",
       "  497260]}"
      ]
     },
     "execution_count": 22,
     "metadata": {},
     "output_type": "execute_result"
    }
   ],
   "source": [
    "dict_userids[0]"
   ]
  },
  {
   "cell_type": "code",
   "execution_count": 21,
   "id": "4b7bd959",
   "metadata": {},
   "outputs": [],
   "source": [
    "filename = 'dict_users'\n",
    "outfile = open(filename,'wb')\n",
    "\n",
    "pickle.dump(dict_userids,outfile)\n",
    "outfile.close()\n",
    "\n",
    "filename = 'dict_games'\n",
    "outfile = open(filename,'wb')\n",
    "\n",
    "pickle.dump(dict_gameids,outfile)\n",
    "outfile.close()"
   ]
  },
  {
   "cell_type": "code",
   "execution_count": 2,
   "id": "e54ab038",
   "metadata": {},
   "outputs": [],
   "source": [
    "infile = open(\"dict_games\",'rb')\n",
    "dict_gameids = pickle.load(infile)\n",
    "infile.close()"
   ]
  },
  {
   "cell_type": "code",
   "execution_count": 13,
   "id": "cef32429",
   "metadata": {},
   "outputs": [
    {
     "name": "stderr",
     "output_type": "stream",
     "text": [
      "100%|███████████████████████████████████████████████████████████████████████████████████████████████████████████████████| 6599/6599 [59:30<00:00,  1.85it/s]\n"
     ]
    }
   ],
   "source": [
    "import requests\n",
    "\n",
    "dict_gameids_with_name = []\n",
    "for i in tqdm(range(len(dict_gameids))):\n",
    "    dict_gameid = {}\n",
    "    dict_gameid[\"appid\"] = dict_gameids[i][\"appid\"]\n",
    "    dict_gameid[\"similar\"] = dict_gameids[i][\"similar\"]\n",
    "    strid = str(dict_gameids[i]['appid'])\n",
    "    try:\n",
    "        response = requests.get(f\"https://store.steampowered.com/api/appdetails?appids={strid}\")\n",
    "        resp = response.json()\n",
    "        dict_gameid[\"name\"] = resp[strid][\"data\"][\"name\"]\n",
    "    except:\n",
    "        dict_gameid[\"name\"] = \"\"\n",
    "    \n",
    "    dict_gameids_with_name.append(dict_gameid)"
   ]
  },
  {
   "cell_type": "code",
   "execution_count": 14,
   "id": "5dbbddbf",
   "metadata": {},
   "outputs": [],
   "source": [
    "filename = 'dict_games_with_names'\n",
    "outfile = open(filename,'wb')\n",
    "\n",
    "pickle.dump(dict_gameids_with_name,outfile)\n",
    "outfile.close()"
   ]
  },
  {
   "cell_type": "code",
   "execution_count": null,
   "id": "3cab0f6d",
   "metadata": {},
   "outputs": [],
   "source": []
  }
 ],
 "metadata": {
  "kernelspec": {
   "display_name": "Python 3 (ipykernel)",
   "language": "python",
   "name": "python3"
  },
  "language_info": {
   "codemirror_mode": {
    "name": "ipython",
    "version": 3
   },
   "file_extension": ".py",
   "mimetype": "text/x-python",
   "name": "python",
   "nbconvert_exporter": "python",
   "pygments_lexer": "ipython3",
   "version": "3.9.5"
  }
 },
 "nbformat": 4,
 "nbformat_minor": 5
}
