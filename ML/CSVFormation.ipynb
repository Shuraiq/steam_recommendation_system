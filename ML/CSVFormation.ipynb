{
 "cells": [
  {
   "cell_type": "code",
   "execution_count": 3,
   "id": "98f8e83a",
   "metadata": {},
   "outputs": [],
   "source": [
    "import pandas as pd\n"
   ]
  },
  {
   "cell_type": "code",
   "execution_count": null,
   "id": "4f353727",
   "metadata": {},
   "outputs": [],
   "source": [
    "data = pd.read_csv(r\"Steam Dataset\\reviews-1-115.csv\")\n",
    "data"
   ]
  },
  {
   "cell_type": "code",
   "execution_count": null,
   "id": "0c8df7bb",
   "metadata": {},
   "outputs": [],
   "source": [
    "import os\n",
    "import glob\n",
    "import pandas as pd\n",
    "os.chdir(r\"C:\\Users\\raghu\\Documents\\untangle\\Steam Dataset\")"
   ]
  },
  {
   "cell_type": "code",
   "execution_count": null,
   "id": "2dd49c9d",
   "metadata": {},
   "outputs": [],
   "source": [
    "extension = 'csv'\n",
    "all_filenames = [i for i in glob.glob('*.{}'.format(extension))]"
   ]
  },
  {
   "cell_type": "code",
   "execution_count": null,
   "id": "d4779cbc",
   "metadata": {},
   "outputs": [],
   "source": [
    "#combine all files in the list\n",
    "combined_csv = pd.concat([pd.read_csv(f) for f in all_filenames ])\n",
    "#export to csv\n",
    "combined_csv.to_csv( \"combined_csv.csv\", index=False, encoding='utf-8-sig')"
   ]
  },
  {
   "cell_type": "code",
   "execution_count": null,
   "id": "649aca6f",
   "metadata": {},
   "outputs": [],
   "source": [
    "data = pd.read_csv(r\"Steam Dataset\\combined_csv.csv\")\n",
    "data"
   ]
  },
  {
   "cell_type": "code",
   "execution_count": null,
   "id": "45eb5185",
   "metadata": {},
   "outputs": [],
   "source": [
    "data.shape"
   ]
  },
  {
   "cell_type": "code",
   "execution_count": null,
   "id": "5b9394ac",
   "metadata": {},
   "outputs": [],
   "source": [
    "df = data.iloc[1:1000000]\n",
    "df.to_csv(\"small.csv\")"
   ]
  },
  {
   "cell_type": "code",
   "execution_count": null,
   "id": "4d8612fb",
   "metadata": {},
   "outputs": [],
   "source": [
    "df = data.iloc[1000000:5000000]\n",
    "df.to_csv(\"medium.csv\")"
   ]
  },
  {
   "cell_type": "code",
   "execution_count": null,
   "id": "5d113543",
   "metadata": {},
   "outputs": [],
   "source": [
    "df = data.iloc[5000000:len(data)]\n",
    "df.to_csv(\"large.csv\")"
   ]
  },
  {
   "cell_type": "code",
   "execution_count": null,
   "id": "5b60e9da",
   "metadata": {},
   "outputs": [],
   "source": []
  },
  {
   "cell_type": "code",
   "execution_count": null,
   "id": "e5c3acf2",
   "metadata": {},
   "outputs": [],
   "source": [
    "# data = pd.read_csv(r\"untangle datasets\\small.csv\")"
   ]
  },
  {
   "cell_type": "code",
   "execution_count": null,
   "id": "612f25aa",
   "metadata": {},
   "outputs": [],
   "source": [
    "# data"
   ]
  },
  {
   "cell_type": "code",
   "execution_count": null,
   "id": "f1b9515c",
   "metadata": {},
   "outputs": [],
   "source": [
    "# len(set(data[\"steamid\"]))"
   ]
  },
  {
   "cell_type": "code",
   "execution_count": null,
   "id": "a5e5b96c",
   "metadata": {},
   "outputs": [],
   "source": [
    "# data[['review','steamid']]"
   ]
  },
  {
   "cell_type": "code",
   "execution_count": null,
   "id": "b7760564",
   "metadata": {},
   "outputs": [],
   "source": [
    "# !pip install progressbar"
   ]
  },
  {
   "cell_type": "code",
   "execution_count": null,
   "id": "37e8fd88",
   "metadata": {},
   "outputs": [],
   "source": [
    "# from progressbar import ProgressBar\n",
    "# pbar = ProgressBar()"
   ]
  },
  {
   "cell_type": "code",
   "execution_count": 4,
   "id": "7f2722e6",
   "metadata": {},
   "outputs": [
    {
     "data": {
      "text/plain": [
       "4000000"
      ]
     },
     "execution_count": 4,
     "metadata": {},
     "output_type": "execute_result"
    }
   ],
   "source": [
    "# df_medium = pd.read_csv(r\"untangle datasets\\medium.csv\")\n",
    "# df_medium"
   ]
  },
  {
   "cell_type": "code",
   "execution_count": 7,
   "id": "061848c0",
   "metadata": {},
   "outputs": [
    {
     "data": {
      "text/html": [
       "<div>\n",
       "<style scoped>\n",
       "    .dataframe tbody tr th:only-of-type {\n",
       "        vertical-align: middle;\n",
       "    }\n",
       "\n",
       "    .dataframe tbody tr th {\n",
       "        vertical-align: top;\n",
       "    }\n",
       "\n",
       "    .dataframe thead th {\n",
       "        text-align: right;\n",
       "    }\n",
       "</style>\n",
       "<table border=\"1\" class=\"dataframe\">\n",
       "  <thead>\n",
       "    <tr style=\"text-align: right;\">\n",
       "      <th></th>\n",
       "      <th>Unnamed: 0</th>\n",
       "      <th>steamid</th>\n",
       "      <th>appid</th>\n",
       "      <th>voted_up</th>\n",
       "      <th>votes_up</th>\n",
       "      <th>votes_funny</th>\n",
       "      <th>weighted_vote_score</th>\n",
       "      <th>playtime_forever</th>\n",
       "      <th>playtime_at_review</th>\n",
       "      <th>num_games_owned</th>\n",
       "      <th>num_reviews</th>\n",
       "      <th>review</th>\n",
       "      <th>unix_timestamp_created</th>\n",
       "      <th>unix_timestamp_updated</th>\n",
       "    </tr>\n",
       "  </thead>\n",
       "  <tbody>\n",
       "    <tr>\n",
       "      <th>0</th>\n",
       "      <td>1000000</td>\n",
       "      <td>76561198247777758</td>\n",
       "      <td>730</td>\n",
       "      <td>False</td>\n",
       "      <td>0</td>\n",
       "      <td>0</td>\n",
       "      <td>0.000000</td>\n",
       "      <td>47749</td>\n",
       "      <td>47313</td>\n",
       "      <td>5</td>\n",
       "      <td>1</td>\n",
       "      <td>bad game \\n</td>\n",
       "      <td>1480060673</td>\n",
       "      <td>1480060673</td>\n",
       "    </tr>\n",
       "    <tr>\n",
       "      <th>1</th>\n",
       "      <td>1000001</td>\n",
       "      <td>76561198066726295</td>\n",
       "      <td>730</td>\n",
       "      <td>True</td>\n",
       "      <td>0</td>\n",
       "      <td>1</td>\n",
       "      <td>0.000000</td>\n",
       "      <td>50594</td>\n",
       "      <td>38315</td>\n",
       "      <td>180</td>\n",
       "      <td>5</td>\n",
       "      <td>yo this gay as shit my nigga like wtf i aint g...</td>\n",
       "      <td>1480060665</td>\n",
       "      <td>1480060665</td>\n",
       "    </tr>\n",
       "    <tr>\n",
       "      <th>2</th>\n",
       "      <td>1000002</td>\n",
       "      <td>76561198107977978</td>\n",
       "      <td>730</td>\n",
       "      <td>True</td>\n",
       "      <td>0</td>\n",
       "      <td>0</td>\n",
       "      <td>0.000000</td>\n",
       "      <td>61561</td>\n",
       "      <td>39508</td>\n",
       "      <td>54</td>\n",
       "      <td>2</td>\n",
       "      <td>well game</td>\n",
       "      <td>1480060624</td>\n",
       "      <td>1480060624</td>\n",
       "    </tr>\n",
       "    <tr>\n",
       "      <th>3</th>\n",
       "      <td>1000003</td>\n",
       "      <td>76561198073269527</td>\n",
       "      <td>730</td>\n",
       "      <td>True</td>\n",
       "      <td>0</td>\n",
       "      <td>0</td>\n",
       "      <td>0.000000</td>\n",
       "      <td>48713</td>\n",
       "      <td>24198</td>\n",
       "      <td>112</td>\n",
       "      <td>2</td>\n",
       "      <td>One of the best eciting FPS of all time. Requi...</td>\n",
       "      <td>1480060594</td>\n",
       "      <td>1480060594</td>\n",
       "    </tr>\n",
       "    <tr>\n",
       "      <th>4</th>\n",
       "      <td>1000004</td>\n",
       "      <td>76561197963218275</td>\n",
       "      <td>730</td>\n",
       "      <td>True</td>\n",
       "      <td>0</td>\n",
       "      <td>1</td>\n",
       "      <td>0.000000</td>\n",
       "      <td>49079</td>\n",
       "      <td>33988</td>\n",
       "      <td>338</td>\n",
       "      <td>2</td>\n",
       "      <td>Every match you'll play Dust 2.\\nGet to knife ...</td>\n",
       "      <td>1480060561</td>\n",
       "      <td>1480060561</td>\n",
       "    </tr>\n",
       "    <tr>\n",
       "      <th>...</th>\n",
       "      <td>...</td>\n",
       "      <td>...</td>\n",
       "      <td>...</td>\n",
       "      <td>...</td>\n",
       "      <td>...</td>\n",
       "      <td>...</td>\n",
       "      <td>...</td>\n",
       "      <td>...</td>\n",
       "      <td>...</td>\n",
       "      <td>...</td>\n",
       "      <td>...</td>\n",
       "      <td>...</td>\n",
       "      <td>...</td>\n",
       "      <td>...</td>\n",
       "    </tr>\n",
       "    <tr>\n",
       "      <th>3999995</th>\n",
       "      <td>4999995</td>\n",
       "      <td>76561197977341184</td>\n",
       "      <td>208730</td>\n",
       "      <td>False</td>\n",
       "      <td>7</td>\n",
       "      <td>0</td>\n",
       "      <td>0.538249</td>\n",
       "      <td>13</td>\n",
       "      <td>13</td>\n",
       "      <td>364</td>\n",
       "      <td>24</td>\n",
       "      <td>Refunded this. Can't even make it work on Wind...</td>\n",
       "      <td>1531744786</td>\n",
       "      <td>1531744786</td>\n",
       "    </tr>\n",
       "    <tr>\n",
       "      <th>3999996</th>\n",
       "      <td>4999996</td>\n",
       "      <td>76561198037119383</td>\n",
       "      <td>208730</td>\n",
       "      <td>False</td>\n",
       "      <td>13</td>\n",
       "      <td>3</td>\n",
       "      <td>0.579624</td>\n",
       "      <td>320</td>\n",
       "      <td>320</td>\n",
       "      <td>745</td>\n",
       "      <td>12</td>\n",
       "      <td>Might be okay game, but the combat is pure sh*...</td>\n",
       "      <td>1531565714</td>\n",
       "      <td>1531565714</td>\n",
       "    </tr>\n",
       "    <tr>\n",
       "      <th>3999997</th>\n",
       "      <td>4999997</td>\n",
       "      <td>76561198386212103</td>\n",
       "      <td>208730</td>\n",
       "      <td>True</td>\n",
       "      <td>1</td>\n",
       "      <td>0</td>\n",
       "      <td>0.467392</td>\n",
       "      <td>386</td>\n",
       "      <td>351</td>\n",
       "      <td>115</td>\n",
       "      <td>22</td>\n",
       "      <td>If your a fan of the show, then you'll love th...</td>\n",
       "      <td>1531193780</td>\n",
       "      <td>1531193780</td>\n",
       "    </tr>\n",
       "    <tr>\n",
       "      <th>3999998</th>\n",
       "      <td>4999998</td>\n",
       "      <td>76561197988833604</td>\n",
       "      <td>208730</td>\n",
       "      <td>True</td>\n",
       "      <td>23</td>\n",
       "      <td>4</td>\n",
       "      <td>0.710156</td>\n",
       "      <td>2392</td>\n",
       "      <td>2392</td>\n",
       "      <td>169</td>\n",
       "      <td>25</td>\n",
       "      <td>Set before Game of Thrones 1st season, the gam...</td>\n",
       "      <td>1530739578</td>\n",
       "      <td>1530739578</td>\n",
       "    </tr>\n",
       "    <tr>\n",
       "      <th>3999999</th>\n",
       "      <td>4999999</td>\n",
       "      <td>76561198074407265</td>\n",
       "      <td>208730</td>\n",
       "      <td>True</td>\n",
       "      <td>4</td>\n",
       "      <td>1</td>\n",
       "      <td>0.522450</td>\n",
       "      <td>1815</td>\n",
       "      <td>756</td>\n",
       "      <td>22</td>\n",
       "      <td>2</td>\n",
       "      <td>It is a bit glitchy and in at least one partic...</td>\n",
       "      <td>1530482026</td>\n",
       "      <td>1530482026</td>\n",
       "    </tr>\n",
       "  </tbody>\n",
       "</table>\n",
       "<p>4000000 rows × 14 columns</p>\n",
       "</div>"
      ],
      "text/plain": [
       "         Unnamed: 0            steamid   appid  voted_up  votes_up  \\\n",
       "0           1000000  76561198247777758     730     False         0   \n",
       "1           1000001  76561198066726295     730      True         0   \n",
       "2           1000002  76561198107977978     730      True         0   \n",
       "3           1000003  76561198073269527     730      True         0   \n",
       "4           1000004  76561197963218275     730      True         0   \n",
       "...             ...                ...     ...       ...       ...   \n",
       "3999995     4999995  76561197977341184  208730     False         7   \n",
       "3999996     4999996  76561198037119383  208730     False        13   \n",
       "3999997     4999997  76561198386212103  208730      True         1   \n",
       "3999998     4999998  76561197988833604  208730      True        23   \n",
       "3999999     4999999  76561198074407265  208730      True         4   \n",
       "\n",
       "         votes_funny  weighted_vote_score  playtime_forever  \\\n",
       "0                  0             0.000000             47749   \n",
       "1                  1             0.000000             50594   \n",
       "2                  0             0.000000             61561   \n",
       "3                  0             0.000000             48713   \n",
       "4                  1             0.000000             49079   \n",
       "...              ...                  ...               ...   \n",
       "3999995            0             0.538249                13   \n",
       "3999996            3             0.579624               320   \n",
       "3999997            0             0.467392               386   \n",
       "3999998            4             0.710156              2392   \n",
       "3999999            1             0.522450              1815   \n",
       "\n",
       "         playtime_at_review  num_games_owned  num_reviews  \\\n",
       "0                     47313                5            1   \n",
       "1                     38315              180            5   \n",
       "2                     39508               54            2   \n",
       "3                     24198              112            2   \n",
       "4                     33988              338            2   \n",
       "...                     ...              ...          ...   \n",
       "3999995                  13              364           24   \n",
       "3999996                 320              745           12   \n",
       "3999997                 351              115           22   \n",
       "3999998                2392              169           25   \n",
       "3999999                 756               22            2   \n",
       "\n",
       "                                                    review  \\\n",
       "0                                              bad game \\n   \n",
       "1        yo this gay as shit my nigga like wtf i aint g...   \n",
       "2                                                well game   \n",
       "3        One of the best eciting FPS of all time. Requi...   \n",
       "4        Every match you'll play Dust 2.\\nGet to knife ...   \n",
       "...                                                    ...   \n",
       "3999995  Refunded this. Can't even make it work on Wind...   \n",
       "3999996  Might be okay game, but the combat is pure sh*...   \n",
       "3999997  If your a fan of the show, then you'll love th...   \n",
       "3999998  Set before Game of Thrones 1st season, the gam...   \n",
       "3999999  It is a bit glitchy and in at least one partic...   \n",
       "\n",
       "         unix_timestamp_created  unix_timestamp_updated  \n",
       "0                    1480060673              1480060673  \n",
       "1                    1480060665              1480060665  \n",
       "2                    1480060624              1480060624  \n",
       "3                    1480060594              1480060594  \n",
       "4                    1480060561              1480060561  \n",
       "...                         ...                     ...  \n",
       "3999995              1531744786              1531744786  \n",
       "3999996              1531565714              1531565714  \n",
       "3999997              1531193780              1531193780  \n",
       "3999998              1530739578              1530739578  \n",
       "3999999              1530482026              1530482026  \n",
       "\n",
       "[4000000 rows x 14 columns]"
      ]
     },
     "execution_count": 7,
     "metadata": {},
     "output_type": "execute_result"
    }
   ],
   "source": [
    "# df_medium"
   ]
  },
  {
   "cell_type": "code",
   "execution_count": null,
   "id": "5ffefc72",
   "metadata": {},
   "outputs": [],
   "source": [
    "# def construct_user_review_string(df):\n",
    "#     df = df[df['review'].notna()]\n",
    "#     unique_steamids = df['steamid'].unique()\n",
    "#     data = []\n",
    "#     for steamid in pbar(unique_steamids):\n",
    "#         user_data = {}\n",
    "#         reviews = df[df[\"steamid\"] == steamid][\"review\"]\n",
    "#         user_data[\"reviews\"] = ' '.join(list(reviews))\n",
    "#         user_data[\"userid\"] = steamid\n",
    "#         data.append(user_data)\n",
    "        \n",
    "#     return data"
   ]
  },
  {
   "cell_type": "code",
   "execution_count": null,
   "id": "07737c31",
   "metadata": {},
   "outputs": [],
   "source": [
    "# user_medium_data = construct_user_review_string(df_medium)"
   ]
  },
  {
   "cell_type": "code",
   "execution_count": null,
   "id": "73c9e607",
   "metadata": {},
   "outputs": [],
   "source": [
    "# user_medium_dataframe = pd.DataFrame(user_medium_data)"
   ]
  },
  {
   "cell_type": "code",
   "execution_count": null,
   "id": "b42f544a",
   "metadata": {},
   "outputs": [],
   "source": [
    "# user_medium_dataframe.to_csv(\"user_medium.csv\")"
   ]
  }
 ],
 "metadata": {
  "kernelspec": {
   "display_name": "Python 3",
   "language": "python",
   "name": "python3"
  },
  "language_info": {
   "codemirror_mode": {
    "name": "ipython",
    "version": 3
   },
   "file_extension": ".py",
   "mimetype": "text/x-python",
   "name": "python",
   "nbconvert_exporter": "python",
   "pygments_lexer": "ipython3",
   "version": "3.8.8"
  }
 },
 "nbformat": 4,
 "nbformat_minor": 5
}
