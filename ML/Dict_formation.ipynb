{
 "cells": [
  {
   "cell_type": "markdown",
   "id": "8d4cabe3",
   "metadata": {},
   "source": [
    "### Finding corrsponding games for each user"
   ]
  },
  {
   "cell_type": "code",
   "execution_count": 1,
   "id": "3be1385b",
   "metadata": {},
   "outputs": [],
   "source": [
    "# df_user_large_sub = pd.read_csv('./Dataset/user_large_sub.csv')\n",
    "import pandas as pd\n",
    "import numpy as np\n",
    "import tqdm\n",
    "import pickle"
   ]
  },
  {
   "cell_type": "code",
   "execution_count": 8,
   "id": "fd51bc92",
   "metadata": {},
   "outputs": [],
   "source": [
    "from progressbar import ProgressBar\n",
    "pbar = ProgressBar()"
   ]
  },
  {
   "cell_type": "code",
   "execution_count": 2,
   "id": "a153cea8",
   "metadata": {},
   "outputs": [],
   "source": [
    "infile = open(\"dict_users\",'rb')\n",
    "dict_users = pickle.load(infile)\n",
    "infile.close()"
   ]
  },
  {
   "cell_type": "code",
   "execution_count": 3,
   "id": "28bd78c6",
   "metadata": {},
   "outputs": [],
   "source": [
    "df_large = pd.read_csv('./Dataset/large.csv')"
   ]
  },
  {
   "cell_type": "code",
   "execution_count": 4,
   "id": "9f5a6a0a",
   "metadata": {},
   "outputs": [],
   "source": [
    "# sid = dict_users[5]['steamid']"
   ]
  },
  {
   "cell_type": "code",
   "execution_count": 5,
   "id": "328c7bb0",
   "metadata": {},
   "outputs": [],
   "source": [
    "# df_large[df_large['steamid'] == sid][['appid','playtime_forever']].sort_values([\"playtime_forever\"],ascending=False).to_records(index=False)"
   ]
  },
  {
   "cell_type": "code",
   "execution_count": 9,
   "id": "6503e359",
   "metadata": {},
   "outputs": [
    {
     "name": "stderr",
     "output_type": "stream",
     "text": [
      "100% |########################################################################|\n"
     ]
    }
   ],
   "source": [
    "for i in pbar(range(len(dict_users))):\n",
    "    sid = dict_users[ik]['steamid']\n",
    "    dict_users[i][\"previously_played\"] = df_large[df_large['steamid'] == sid][['appid','playtime_forever']].sort_values([\"playtime_forever\"],ascending=False).to_records(index=False)"
   ]
  },
  {
   "cell_type": "code",
   "execution_count": 15,
   "id": "6177791a",
   "metadata": {},
   "outputs": [],
   "source": [
    "filename = 'dict_games_with_names_and_prevplayed'\n",
    "outfile = open(filename,'wb')\n",
    "\n",
    "pickle.dump(dict_users,outfile)\n",
    "outfile.close()"
   ]
  },
  {
   "cell_type": "code",
   "execution_count": null,
   "id": "18511888",
   "metadata": {},
   "outputs": [],
   "source": []
  }
 ],
 "metadata": {
  "kernelspec": {
   "display_name": "Python 3 (ipykernel)",
   "language": "python",
   "name": "python3"
  },
  "language_info": {
   "codemirror_mode": {
    "name": "ipython",
    "version": 3
   },
   "file_extension": ".py",
   "mimetype": "text/x-python",
   "name": "python",
   "nbconvert_exporter": "python",
   "pygments_lexer": "ipython3",
   "version": "3.9.5"
  }
 },
 "nbformat": 4,
 "nbformat_minor": 5
}
